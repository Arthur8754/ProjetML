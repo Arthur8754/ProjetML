{
 "cells": [
  {
   "cell_type": "code",
   "execution_count": 1,
   "metadata": {},
   "outputs": [],
   "source": [
    "import lireDonnees\n",
    "from classifieurs.modele_probabiliste import *\n",
    "from tests import *\n",
    "import matplotlib.pyplot as plt\n",
    "import pandas as pd\n",
    "import numpy as np\n",
    "from sklearn.preprocessing import LabelEncoder, StandardScaler"
   ]
  },
  {
   "cell_type": "code",
   "execution_count": 2,
   "metadata": {},
   "outputs": [],
   "source": [
    "train = pd.read_csv('data/train.csv')\n",
    "train = train.drop(\"id\",axis=1)\n",
    "\n",
    "test = pd.read_csv('data/test.csv')\n",
    "\n",
    "le = LabelEncoder()\n",
    "le.fit(train.species)\n",
    "\n",
    "y = train.pop(\"species\")\n",
    "y = le.transform(y)\n",
    "\n",
    "X = train\n",
    "\n",
    "from sklearn.model_selection import train_test_split\n",
    "X_train, X_test, y_train, y_test = train_test_split( X, y, test_size=0.2, random_state=42,shuffle=True, stratify=y)\n",
    "\n",
    "\n",
    "scaler = StandardScaler()\n",
    "scaler.fit(X_train)\n",
    "X_train = scaler.transform(X_train)\n",
    "X_test = scaler.transform(X_test)"
   ]
  },
  {
   "cell_type": "code",
   "execution_count": 3,
   "metadata": {},
   "outputs": [
    {
     "name": "stdout",
     "output_type": "stream",
     "text": [
      "Fitting 5 folds for each of 100 candidates, totalling 500 fits\n"
     ]
    },
    {
     "data": {
      "text/plain": [
       "{'var_smoothing': 0.2848035868435802}"
      ]
     },
     "execution_count": 3,
     "metadata": {},
     "output_type": "execute_result"
    }
   ],
   "source": [
    "from sklearn.naive_bayes import GaussianNB\n",
    "from sklearn.model_selection import GridSearchCV\n",
    "\n",
    "nb_classifier = GaussianNB()\n",
    "\n",
    "params_NB = {'var_smoothing': np.logspace(0,-9, num=100)}\n",
    "gs_NB = GridSearchCV(estimator=nb_classifier, \n",
    "                 param_grid=params_NB, \n",
    "                 cv=5,   # use any cross validation technique \n",
    "                 verbose=1, \n",
    "                 scoring='accuracy') \n",
    "gs_NB.fit(X_train, y_train)\n",
    "\n",
    "gs_NB.best_params_"
   ]
  },
  {
   "cell_type": "code",
   "execution_count": 4,
   "metadata": {},
   "outputs": [
    {
     "data": {
      "image/png": "[encoded data removed]",
      "text/plain": [
       "<Figure size 720x720 with 1 Axes>"
      ]
     },
     "metadata": {
      "needs_background": "light"
     },
     "output_type": "display_data"
    }
   ],
   "source": [
    "cvres = gs_NB.cv_results_\n",
    "cvres\n",
    "len(cvres[\"params\"])\n",
    "list_param = []\n",
    "\n",
    "for i in range(0,len(cvres[\"params\"])):\n",
    "    list_param.append(list(cvres[\"params\"][i].values())[0])\n",
    "\n",
    "ymax = np.ones(len(cvres[\"mean_test_score\"]))*max(cvres[\"mean_test_score\"])\n",
    "#print(ymax)\n",
    "\n",
    "C = np.logspace(0, -10, 100)\n",
    "plt.figure(figsize=(10,10))\n",
    "plt.plot(C, cvres[\"mean_test_score\"])\n",
    "plt.plot(C, ymax, label='Best value is : ' + '{:1.3f}'.format(max(cvres[\"mean_test_score\"])) + ' for var = ' + '{:1.5f}'.format(list(gs_NB.best_params_.values())[0]))\n",
    "plt.legend()\n",
    "plt.xscale('log')\n",
    "plt.xlabel('Value of variance')\n",
    "plt.ylabel('Accuracy')\n",
    "plt.show()"
   ]
  },
  {
   "cell_type": "code",
   "execution_count": 5,
   "metadata": {},
   "outputs": [
    {
     "name": "stdout",
     "output_type": "stream",
     "text": [
      "Fitting 5 folds for each of 100 candidates, totalling 500 fits\n"
     ]
    }
   ],
   "source": [
    "# create an instance of the GaussianNBClassifier class with a dictionary of hyperparameters to search over\n",
    "gaussian_classifier = GaussianNBClassifier({'var_smoothing': np.logspace(0, -9, num=100)})\n",
    "\n",
    "# find the best hyperparameters for the classifier\n",
    "gaussian_best_params = gaussian_classifier.hyperparameter_search(X_train, y_train, k=5)"
   ]
  },
  {
   "cell_type": "code",
   "execution_count": 6,
   "metadata": {},
   "outputs": [
    {
     "data": {
      "text/plain": [
       "{'var_smoothing': 0.2848035868435802}"
      ]
     },
     "execution_count": 6,
     "metadata": {},
     "output_type": "execute_result"
    }
   ],
   "source": [
    "gaussian_best_params"
   ]
  },
  {
   "cell_type": "code",
   "execution_count": 12,
   "metadata": {},
   "outputs": [],
   "source": [
    "gaussian_classifier = GaussianNBClassifier()\n",
    "gaussian_classifier.setParameter(gaussian_best_params)"
   ]
  },
  {
   "cell_type": "code",
   "execution_count": 13,
   "metadata": {},
   "outputs": [
    {
     "data": {
      "text/plain": [
       "{'precision': 0.9747474747474747,\n",
       " 'accuracy': 0.9747474747474747,\n",
       " 'recall': 0.9747474747474747,\n",
       " 'f1': 0.9747474747474747}"
      ]
     },
     "execution_count": 13,
     "metadata": {},
     "output_type": "execute_result"
    }
   ],
   "source": [
    "gaussian_classifier.train(X_train,y_train)\n",
    "\n",
    "y_pred = gaussian_classifier.predict(X_test)\n",
    "\n",
    "# use the LabelEncoder object to transform your data\n",
    "gaussian_classifier.error(y_pred,y_test)"
   ]
  },
  {
   "cell_type": "code",
   "execution_count": null,
   "metadata": {},
   "outputs": [],
   "source": []
  }
 ],
 "metadata": {
  "kernelspec": {
   "display_name": "Python 3.6.8 32-bit",
   "language": "python",
   "name": "python3"
  },
  "language_info": {
   "codemirror_mode": {
    "name": "ipython",
    "version": 3
   },
   "file_extension": ".py",
   "mimetype": "text/x-python",
   "name": "python",
   "nbconvert_exporter": "python",
   "pygments_lexer": "ipython3",
   "version": "3.6.8"
  },
  "orig_nbformat": 4,
  "vscode": {
   "interpreter": {
    "hash": "1574dca48e308cc3651c67f51f75a30afa86eab0bc083143ae8f6c47936081de"
   }
  }
 },
 "nbformat": 4,
 "nbformat_minor": 2
}
